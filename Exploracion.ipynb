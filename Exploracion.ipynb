{
 "cells": [
  {
   "cell_type": "code",
   "execution_count": 1,
   "metadata": {},
   "outputs": [],
   "source": [
    "import numpy as np\n",
    "import pickle\n",
    "import gdown\n",
    "import os\n",
    "import torch\n",
    "from sklearn.model_selection import train_test_split\n",
    "from ipywidgets import IntProgress\n",
    "from IPython.display import display\n",
    "import torch.nn as nn\n",
    "from torch.utils.data import TensorDataset\n",
    "\n"
   ]
  },
  {
   "cell_type": "markdown",
   "metadata": {},
   "source": [
    "## Descarda de datos"
   ]
  },
  {
   "cell_type": "code",
   "execution_count": 2,
   "metadata": {},
   "outputs": [],
   "source": [
    "path = \"./Datos ZTF/recurrent_dataset.pk\"\n",
    "if not os.path.isfile(path):\n",
    "    url = 'https://drive.google.com/drive/folders/1vqfoxF-KyMNnLxABZZ_kb76DrUrixEud'\n",
    "    gdown.download_folder(url, quiet=False)"
   ]
  },
  {
   "cell_type": "markdown",
   "metadata": {},
   "source": [
    "## Exploracion"
   ]
  },
  {
   "cell_type": "code",
   "execution_count": 3,
   "metadata": {},
   "outputs": [
    {
     "name": "stdout",
     "output_type": "stream",
     "text": [
      "dict_keys(['template', 'science', 'difference', 'labels'])\n"
     ]
    }
   ],
   "source": [
    "path = \"./bases.npy\"\n",
    "if not os.path.isfile(path):\n",
    "    with open('./Datos ZTF/recurrent_dataset.pk', 'rb') as f:\n",
    "        data_rec = pickle.load(f)\n",
    "    print(data_rec.keys())"
   ]
  },
  {
   "cell_type": "code",
   "execution_count": 4,
   "metadata": {},
   "outputs": [
    {
     "name": "stdout",
     "output_type": "stream",
     "text": [
      "(77146, 27, 27)\n",
      "(77146, 3, 27, 27)\n",
      "(77146, 3, 27, 27)\n",
      "(77146,)\n"
     ]
    }
   ],
   "source": [
    "path = \"./bases.npy\"\n",
    "if not os.path.isfile(path):\n",
    "    print(np.shape(data_rec[\"template\"]))\n",
    "    print(np.shape(data_rec[\"science\"]))\n",
    "    print(np.shape(data_rec[\"difference\"]))\n",
    "    print(np.shape(data_rec[\"labels\"]))"
   ]
  },
  {
   "cell_type": "markdown",
   "metadata": {},
   "source": [
    "## dataset de entrenamiento"
   ]
  },
  {
   "cell_type": "code",
   "execution_count": 6,
   "metadata": {},
   "outputs": [],
   "source": [
    "path = \"./bases.npy\"\n",
    "if not os.path.isfile(path):\n",
    "    indices = np.arange(77146)\n",
    "    (\n",
    "        data_train,\n",
    "        data_test,\n",
    "        labels_train,\n",
    "        labels_test,\n",
    "        indices_train,\n",
    "        indices_test,\n",
    "    ) = train_test_split(data_rec[\"template\"], data_rec[\"labels\"], indices, test_size=0.1,stratify=data_rec[\"labels\"])"
   ]
  },
  {
   "cell_type": "markdown",
   "metadata": {},
   "source": [
    "### Recorte "
   ]
  },
  {
   "cell_type": "code",
   "execution_count": 7,
   "metadata": {},
   "outputs": [
    {
     "name": "stdout",
     "output_type": "stream",
     "text": [
      "train\n",
      "(69431, 21, 21)\n",
      "(69431, 3, 21, 21)\n",
      "(69431, 3, 21, 21)\n",
      "val\n",
      "(7715, 21, 21)\n",
      "(7715, 3, 21, 21)\n",
      "(7715, 3, 21, 21)\n"
     ]
    }
   ],
   "source": [
    "path = \"./bases.npy\"\n",
    "if not os.path.isfile(path):\n",
    "    train_label=data_rec[\"labels\"][indices_train]\n",
    "\n",
    "    train_template=data_rec[\"template\"][indices_train,3:24,3:24]\n",
    "    train_science=data_rec[\"science\"][indices_train,:,3:24,3:24]\n",
    "    train_difference=data_rec[\"difference\"][indices_train,:,3:24,3:24]\n",
    "    print(\"train\")\n",
    "    print(np.shape(train_template))\n",
    "    print(np.shape(train_science))\n",
    "    print(np.shape(train_difference))\n",
    "    print(\"val\")\n",
    "    val_label=data_rec[\"labels\"][indices_test]\n",
    "\n",
    "    val_template=data_rec[\"template\"][indices_test,3:24,3:24]\n",
    "    val_science=data_rec[\"science\"][indices_test,:,3:24,3:24]\n",
    "    val_difference=data_rec[\"difference\"][indices_test,:,3:24,3:24]\n",
    "    print(np.shape(val_template))\n",
    "    print(np.shape(val_science))\n",
    "    print(np.shape(val_difference))\n"
   ]
  },
  {
   "cell_type": "markdown",
   "metadata": {},
   "source": [
    "### Codicacion del autoencoder\n"
   ]
  },
  {
   "cell_type": "code",
   "execution_count": 8,
   "metadata": {},
   "outputs": [
    {
     "data": {
      "text/plain": [
       "<All keys matched successfully>"
      ]
     },
     "execution_count": 8,
     "metadata": {},
     "output_type": "execute_result"
    }
   ],
   "source": [
    "class AutoEncoderV3(nn.Module):\n",
    "    def __init__(\n",
    "        self,\n",
    "    ):\n",
    "        super().__init__()\n",
    "        self.encoder = nn.Sequential(\n",
    "            # Bloque 1\n",
    "            # [3x21x21]\n",
    "            nn.Conv2d(3, 16, kernel_size=3, padding=\"same\"),\n",
    "            nn.ReLU(),\n",
    "            #[16, 21, 21]\n",
    "            nn.Conv2d(16, 16, kernel_size=3, padding=\"same\"),\n",
    "            nn.ReLU(),\n",
    "            #[16, 21, 21]\n",
    "            nn.MaxPool2d(kernel_size=2),\n",
    "            #[16, 10, 10]\n",
    "\n",
    "            # Bloque 2\n",
    "            nn.Conv2d(16, 32, kernel_size=3, padding=\"same\"),\n",
    "            nn.ReLU(),\n",
    "            #[32, 10, 10]\n",
    "            nn.Conv2d(32, 32, kernel_size=3, padding=\"same\"),\n",
    "            nn.ReLU(),\n",
    "            #[32, 10, 10]\n",
    "            nn.MaxPool2d(kernel_size=2),\n",
    "            # [32, 5, 5]\n",
    "\n",
    "            # Bloque 3\n",
    "            nn.Conv2d(32, 64, kernel_size=3, padding=\"same\"),\n",
    "            nn.ReLU(),\n",
    "            # [64, 5, 5]\n",
    "            nn.Conv2d(64, 64, kernel_size=3, padding=\"same\"),\n",
    "            nn.ReLU(),\n",
    "            # [64, 5, 5]\n",
    "            nn.MaxPool2d(kernel_size=2),\n",
    "            # [64, 2, 2]\n",
    "\n",
    "            # Bloque 4\n",
    "            nn.Conv2d(64, 128, kernel_size=3, padding=\"same\"),\n",
    "            nn.ReLU(),\n",
    "            # [128, 2, 2]\n",
    "            nn.MaxPool2d(kernel_size=2),\n",
    "            # [128, 1, 1]   \n",
    "        )\n",
    "        self.decoder = nn.Sequential(\n",
    "            # BLoque 1\n",
    "            # [128, 1, 1]\n",
    "            nn.ConvTranspose2d(128, 64, 2,stride=1),\n",
    "            nn.ReLU(),\n",
    "            # [64, 2, 2]\n",
    "\n",
    "            # BLoque 2\n",
    "            nn.ConvTranspose2d(64, 64, 3,stride=2),\n",
    "            nn.ReLU(),\n",
    "            # [64, 5, 5]\n",
    "            nn.ConvTranspose2d(64, 32, 1,stride=1),\n",
    "            nn.ReLU(),\n",
    "            # [32, 5, 5]\n",
    "\n",
    "            # Bloque 3\n",
    "            nn.ConvTranspose2d(32, 32, 2,stride=2),\n",
    "            nn.ReLU(),\n",
    "            # [32, 10, 10]\n",
    "            nn.ConvTranspose2d(32, 32, 1,stride=1),\n",
    "            nn.ReLU(),\n",
    "            # [32, 10, 10]\n",
    "\n",
    "            # BLoque 4\n",
    "            nn.ConvTranspose2d(32, 16, 3,stride=2),\n",
    "            nn.ReLU(),\n",
    "            nn.ConvTranspose2d(16, 16, 1,stride=1),\n",
    "            nn.ReLU(),\n",
    "            # Bloque 5\n",
    "            nn.ConvTranspose2d(16, 3, 1,stride=1),\n",
    "            nn.ReLU(),\n",
    "        )\n",
    "        \n",
    "        self.net = nn.Sequential(\n",
    "            self.encoder,\n",
    "            self.decoder,\n",
    "        )\n",
    "    def forward(self, x):\n",
    "        return self.net(x)\n",
    "autoencoder = AutoEncoderV3() \n",
    "autoencoder.load_state_dict(torch.load('modelo_entrenado128.pth'))"
   ]
  },
  {
   "cell_type": "markdown",
   "metadata": {},
   "source": [
    "### Creacion del dataset entrenamiento"
   ]
  },
  {
   "cell_type": "code",
   "execution_count": 9,
   "metadata": {},
   "outputs": [
    {
     "name": "stdout",
     "output_type": "stream",
     "text": [
      "train\n",
      "(69431, 3, 3, 21, 21)\n",
      "(69431,)\n"
     ]
    },
    {
     "data": {
      "application/vnd.jupyter.widget-view+json": {
       "model_id": "4108e9c240de444fbc4d954c96125a49",
       "version_major": 2,
       "version_minor": 0
      },
      "text/plain": [
       "IntProgress(value=0, description='Loading:', max=69431, style=ProgressStyle(bar_color='maroon'))"
      ]
     },
     "metadata": {},
     "output_type": "display_data"
    }
   ],
   "source": [
    "path = \"./bases.npy\"\n",
    "if not os.path.isfile(path):\n",
    "    largo_train=len(train_label)\n",
    "    train=np.zeros([largo_train,3,3,21,21])\n",
    "    print(\"train\")\n",
    "    for idx,data in enumerate(train):\n",
    "        for i in range(3):\n",
    "            data[i,0]=train_template[idx]\n",
    "            data[i,1]=train_science[idx][i]\n",
    "            data[i,2]=train_difference[idx][i]\n",
    "    print(np.shape(train))\n",
    "    print(np.shape(train_label))\n",
    "\n",
    "    largo=len(train)\n",
    "    dim=128\n",
    "\n",
    "    data_train=np.zeros([largo,3,128])\n",
    "    f = IntProgress(min=0, max=largo,description='Loading:',\n",
    "        bar_style='', # 'success', 'info', 'warning', 'danger' or ''\n",
    "        style={'bar_color': 'maroon'},\n",
    "        orientation='horizontal') \n",
    "    display(f) # display the bar\n",
    "\n",
    "    for idx, data in enumerate(train):\n",
    "        f.value += 1\n",
    "\n",
    "        # break\n",
    "        medicion=torch.squeeze(autoencoder.encoder(torch.Tensor(data))).detach().numpy()\n",
    "        data_train[idx]=medicion\n",
    "    f.description='Ready:'\n",
    "    f.style={'bar_color': 'green'}"
   ]
  },
  {
   "cell_type": "markdown",
   "metadata": {},
   "source": [
    "### Creacion del dataset validacion"
   ]
  },
  {
   "cell_type": "code",
   "execution_count": 10,
   "metadata": {},
   "outputs": [
    {
     "name": "stdout",
     "output_type": "stream",
     "text": [
      "val\n"
     ]
    },
    {
     "data": {
      "application/vnd.jupyter.widget-view+json": {
       "model_id": "99d96f085b134ded997ef68438fbd042",
       "version_major": 2,
       "version_minor": 0
      },
      "text/plain": [
       "IntProgress(value=0, description='Loading:', max=7715, style=ProgressStyle(bar_color='maroon'))"
      ]
     },
     "metadata": {},
     "output_type": "display_data"
    }
   ],
   "source": [
    "path = \"./bases.npy\"\n",
    "if not os.path.isfile(path):\n",
    "    largo_test=len(val_label)\n",
    "    val=np.zeros([largo_test,3,3,21,21])\n",
    "    print(\"val\")\n",
    "    for idx,data in enumerate(val):\n",
    "        for i in range(3):\n",
    "            data[i,0]=val_template[idx]\n",
    "            data[i,1]=val_science[idx][i]\n",
    "            data[i,2]=val_difference[idx][i]\n",
    "\n",
    "\n",
    "    largo=len(val)\n",
    "    data_val=np.zeros([largo,3,128])\n",
    "    f = IntProgress(min=0, max=largo,description='Loading:',\n",
    "        bar_style='', # 'success', 'info', 'warning', 'danger' or ''\n",
    "        style={'bar_color': 'maroon'},\n",
    "        orientation='horizontal') # instantiate the bar\n",
    "    display(f) # display the bar\n",
    "\n",
    "    for idx, data in enumerate(val):\n",
    "        f.value += 1\n",
    "        medicion=torch.squeeze(autoencoder.encoder(torch.Tensor(data))).detach().numpy()\n",
    "        data_val[idx]=medicion\n",
    "    f.description='Ready:'\n",
    "    f.style={'bar_color': 'green'}\n"
   ]
  },
  {
   "cell_type": "code",
   "execution_count": 12,
   "metadata": {},
   "outputs": [],
   "source": [
    "path = \"./bases.npy\"\n",
    "if not os.path.isfile(path):\n",
    "    with open('bases.npy', 'wb') as f:\n",
    "        np.save(f, data_val)\n",
    "        np.save(f, val_label)\n",
    "        np.save(f, data_train)\n",
    "        np.save(f, train_label)\n",
    "\n"
   ]
  },
  {
   "cell_type": "code",
   "execution_count": 12,
   "metadata": {},
   "outputs": [],
   "source": [
    "with open('bases.npy', 'rb') as f:\n",
    "    data_val = np.load(f)\n",
    "    val_label = np.load(f)\n",
    "    data_train = np.load(f)\n",
    "    train_label = np.load(f)"
   ]
  },
  {
   "cell_type": "markdown",
   "metadata": {},
   "source": [
    "### Tensor dataset"
   ]
  },
  {
   "cell_type": "code",
   "execution_count": null,
   "metadata": {},
   "outputs": [],
   "source": [
    "\n",
    "my_datatrain = TensorDataset(torch.Tensor(data_train),torch.Tensor(train_label)) \n",
    "my_dataval = TensorDataset(torch.Tensor(data_val),torch.Tensor(val_label))\n"
   ]
  },
  {
   "cell_type": "markdown",
   "metadata": {},
   "source": [
    "## Arquitectura red recurrente"
   ]
  },
  {
   "cell_type": "code",
   "execution_count": null,
   "metadata": {},
   "outputs": [],
   "source": [
    "class RNN(nn.Module):\n",
    "    def __init__(self,input_size,hidden_size,num_layers,num_classes):\n",
    "        super(RNN, self).__init__()\n",
    "        self.num_layers=num_layers\n",
    "        self.hidden_size=hidden_size\n",
    "\n",
    "        self.rnn=nn.GRU(input_size,hidden_size,num_layers,batch_first=True)\n",
    "        self.fc=nn.Sequential(nn.Linear(hidden_size,64),\n",
    "                                nn.ReLU(),\n",
    "                                nn.Linear(64,32),\n",
    "                                nn.ReLU(),\n",
    "                                nn.Linear(32,16),\n",
    "                                nn.ReLU(),\n",
    "                                nn.Linear(16,num_classes)\n",
    "                            )\n",
    "\n",
    "    \n",
    "    def forward(self, x,gpu):\n",
    "        if gpu== True:\n",
    "\n",
    "            h0=torch.zeros(self.num_layers,x.size(0),self.hidden_size).cuda()\n",
    "        else:\n",
    "            h0=torch.zeros(self.num_layers,x.size(0),self.hidden_size)\n",
    "\n",
    "        out,_=self.rnn(x,h0)\n",
    "        out=out[:,-1,:]\n",
    "        out=self.fc(out)\n",
    "        return out\n",
    " \n"
   ]
  },
  {
   "cell_type": "code",
   "execution_count": null,
   "metadata": {},
   "outputs": [],
   "source": [
    "input_size=128\n",
    "hidden_size=200\n",
    "num_classes=3\n",
    "num_epoch=100\n",
    "batch_size=32\n",
    "lr=1e-4\n",
    "num_layers=4\n",
    "    \n",
    "\n",
    "model=RNN(input_size,hidden_size,num_layers,num_classes)  \n",
    "criterion= nn.CrossEntropyLoss() # Probar con Cross entropy\n",
    "lr=1e-3\n",
    "optimizer=torch.optim.Adam(model.parameters(),lr=lr) # Probar con Sgd\n",
    "\n",
    "\n",
    "\n",
    "current_loss=0\n",
    "all_losses=[]\n",
    "plot_step, print_step=1000,5000\n",
    "num_epoch=100\n",
    "batch_size=32\n",
    "use_gpu=False\n",
    "\n",
    "train_loader = torch.utils.data.DataLoader(my_datatrain, batch_size=batch_size, shuffle=True, num_workers=2, pin_memory=use_gpu)\n",
    "val_loader = torch.utils.data.DataLoader(my_dataval, batch_size=len(my_dataval), shuffle=False, pin_memory=use_gpu)\n",
    "num_total_steps=len(train_loader)\n",
    "\n",
    "if use_gpu:\n",
    "    model.cuda()\n",
    "    autoencoder.encoder.cuda()\n",
    "\n",
    "for epoch in range(num_epoch):\n",
    "    acumulado=0\n",
    "    train_acc_count=0\n",
    "    val_acc_count=0\n",
    "\n",
    "    cumulative_train_corrects=0\n",
    "\n",
    "    model.train()   \n",
    "    for i, (x_batch, y_batch) in enumerate(train_loader):\n",
    "        largo=len(x_batch)\n",
    "        # print(np.shape(x_batch))\n",
    "        if use_gpu:\n",
    "            x_batch = x_batch.cuda()\n",
    "            y_batch = y_batch.cuda()\n",
    "\n",
    "        outputs=model(x_batch,use_gpu)\n",
    "\n",
    "        if use_gpu:\n",
    "            y_batch = y_batch.type(torch.LongTensor).cuda()\n",
    "        else:\n",
    "            y_batch = y_batch.type(torch.LongTensor)\n",
    "\n",
    "        class_prediction = torch.argmax(outputs, axis=1).long()\n",
    "        train_acc_count += y_batch.shape[0]\n",
    "        cumulative_train_corrects += (y_batch == class_prediction).sum().item()\n",
    "\n",
    "        loss=criterion(outputs, y_batch)\n",
    "        optimizer.zero_grad()\n",
    "        loss.backward()\n",
    "        optimizer.step()\n",
    "        acumulado+=loss.item()\n",
    "    \n",
    "    print(f\"Epoch [{epoch+1}/{num_epoch}], Loss:{acumulado/num_total_steps:.4f}, acc train: {cumulative_train_corrects / train_acc_count:.4f}\")\n",
    "\n",
    "    model.eval()\n",
    "    with torch.no_grad():\n",
    "        val_acc_count=0\n",
    "        cumulative_val_corrects=0\n",
    "        for x_val, y_val in val_loader:\n",
    "            if use_gpu:\n",
    "                x_val = x_val.cuda()\n",
    "                y_val = y_val.cuda()\n",
    "\n",
    "            y_predicted = model(x_val,use_gpu)\n",
    "            class_prediction = torch.argmax(y_predicted, axis=1).long()\n",
    "            val_acc_count += y_val.shape[0]\n",
    "            cumulative_val_corrects += (y_val == class_prediction).sum().item()\n",
    "\n",
    "    print(f\"Epoch [{epoch+1}/{num_epoch}], acc val: {cumulative_val_corrects / val_acc_count:.4f}\")"
   ]
  }
 ],
 "metadata": {
  "kernelspec": {
   "display_name": "Python 3.10.8 ('inteligencia')",
   "language": "python",
   "name": "python3"
  },
  "language_info": {
   "codemirror_mode": {
    "name": "ipython",
    "version": 3
   },
   "file_extension": ".py",
   "mimetype": "text/x-python",
   "name": "python",
   "nbconvert_exporter": "python",
   "pygments_lexer": "ipython3",
   "version": "3.10.8"
  },
  "orig_nbformat": 4,
  "vscode": {
   "interpreter": {
    "hash": "49e74fd012b5c81c96c72a4dc2768bca761f8ccf6bfd7a19c7f396fe41ae87bd"
   }
  }
 },
 "nbformat": 4,
 "nbformat_minor": 2
}
